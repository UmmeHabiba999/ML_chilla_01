{
 "cells": [
  {
   "cell_type": "code",
   "execution_count": 1,
   "metadata": {},
   "outputs": [
    {
     "data": {
      "image/png": "[encoded data removed]",
      "text/plain": [
       "<Figure size 432x288 with 1 Axes>"
      ]
     },
     "metadata": {
      "needs_background": "light"
     },
     "output_type": "display_data"
    }
   ],
   "source": [
    "# Bad fit  example\n",
    "\n",
    "import numpy\n",
    "import matplotlib.pyplot as plt \n",
    "\n",
    "x = [89,43,36,36,95,10,66,34,38,20,26,29,48,64,6,5,36,66,72,40]\n",
    "y = [21,46,3,35,67,93,55,72,58,10,26,34,90,33,38,20,56,2,47,15]\n",
    "\n",
    "# next line mein sklearn ki bjaey numpy ko use kr k 1 dimentional line bnai\n",
    "\n",
    "mymodel = numpy.poly1d(numpy.polyfit(x,y,3))\n",
    "myline =  numpy.linspace(2,95,100)\n",
    "\n",
    "plt.scatter(x,y)\n",
    "plt.plot(myline,mymodel(myline))\n",
    "\n",
    "plt.show()"
   ]
  },
  {
   "cell_type": "markdown",
   "metadata": {},
   "source": [
    "the above line is not actually representing the scatter plot, \n",
    "we will see R square to check accuracy of above line"
   ]
  },
  {
   "cell_type": "code",
   "execution_count": 2,
   "metadata": {},
   "outputs": [
    {
     "name": "stdout",
     "output_type": "stream",
     "text": [
      "0.009012599752578954\n"
     ]
    }
   ],
   "source": [
    "# R-squared for bad fir\n",
    "\n",
    "import numpy\n",
    "from sklearn.metrics import r2_score\n",
    "\n",
    "x = [89,43,36,36,95,10,66,34,38,20,26,29,48,64,6,5,36,66,72,40]\n",
    "y = [21,46,3,35,67,93,55,72,58,10,26,34,90,33,38,20,56,2,47,15]\n",
    "\n",
    "model = numpy.poly1d(numpy.polyfit(x,y,3))\n",
    "\n",
    "print(r2_score(y,model(x))) "
   ]
  },
  {
   "cell_type": "markdown",
   "metadata": {},
   "source": [
    "R2 bohat bohat km aya hy matlb accuracy bht km ai hy, meaning x and y aik doosry k sath relate nhi kr rhy... data hamara jb aesa ho to ye wala polinomial draw nhi krni. ye bad fit ki example hy..."
   ]
  },
  {
   "cell_type": "code",
   "execution_count": 3,
   "metadata": {},
   "outputs": [
    {
     "data": {
      "text/plain": [
       "<function matplotlib.pyplot.show(close=None, block=None)>"
      ]
     },
     "execution_count": 3,
     "metadata": {},
     "output_type": "execute_result"
    },
    {
     "data": {
      "image/png": "[encoded data removed]",
      "text/plain": [
       "<Figure size 432x288 with 1 Axes>"
      ]
     },
     "metadata": {
      "needs_background": "light"
     },
     "output_type": "display_data"
    }
   ],
   "source": [
    "# ab daikhty hein k polinomial line kesy data py draw krni hy\n",
    "# first just see data without line\n",
    "\n",
    "# step-1 Data\n",
    "\n",
    "import matplotlib.pyplot as plt\n",
    "\n",
    "x = [1,2,3,4,5,6,7,8,9,10,11,12,13,14,15,16,17,18,19,20,21,22]\n",
    "y = [100,90,80,70,60,60,55,55,60,65,60,75,70,70,75,76,78,79,90,99,99,100]\n",
    "\n",
    "plt.scatter(x,y,color='green')\n",
    "plt.show"
   ]
  },
  {
   "cell_type": "code",
   "execution_count": 8,
   "metadata": {},
   "outputs": [
    {
     "data": {
      "image/png": "[encoded data removed]",
      "text/plain": [
       "<Figure size 432x288 with 1 Axes>"
      ]
     },
     "metadata": {
      "needs_background": "light"
     },
     "output_type": "display_data"
    }
   ],
   "source": [
    "# Step 2 - Draw the Line\n",
    "\n",
    "import numpy \n",
    "import matplotlib.pyplot as plt\n",
    "\n",
    "x = [1,2,3,4,5,6,7,8,9,10,11,12,13,14,15,16,17,18,19,20,21,22]\n",
    "y = [100,90,80,70,60,60,55,55,60,65,60,75,70,70,75,76,78,79,90,99,99,100]\n",
    "\n",
    "mymodel = numpy.poly1d(numpy.polyfit(x,y,3))\n",
    "\n",
    "myline =  numpy.linspace(1,22,100)\n",
    "\n",
    "plt.scatter(x,y)\n",
    "plt.plot(myline,mymodel(myline))\n",
    "\n",
    "plt.show()\n"
   ]
  },
  {
   "cell_type": "code",
   "execution_count": 10,
   "metadata": {},
   "outputs": [
    {
     "name": "stdout",
     "output_type": "stream",
     "text": [
      "0.921152305878097\n"
     ]
    }
   ],
   "source": [
    "# Step 3 - Check R square value\n",
    "\n",
    "import numpy\n",
    "from sklearn.metrics import r2_score\n",
    "\n",
    "x = [1,2,3,4,5,6,7,8,9,10,11,12,13,14,15,16,17,18,19,20,21,22]\n",
    "y = [100,90,80,70,60,60,55,55,60,65,60,75,70,70,75,76,78,79,90,99,99,100]\n",
    "\n",
    "model = numpy.poly1d(numpy.polyfit(x,y,3))\n",
    "\n",
    "print(r2_score(y,model(x)))   # ye best fit line hy keun k R square value 0.92 hy"
   ]
  },
  {
   "cell_type": "code",
   "execution_count": 18,
   "metadata": {},
   "outputs": [
    {
     "name": "stdout",
     "output_type": "stream",
     "text": [
      "58.1678801747451\n"
     ]
    }
   ],
   "source": [
    "# numpy can also used as a resource for ML algo, here we can see prediction with numpy too\n",
    "# Prediction\n",
    "\n",
    "import numpy\n",
    "from sklearn.metrics import r2_score\n",
    "\n",
    "x = [1,2,3,4,5,6,7,8,9,10,11,12,13,14,15,16,17,18,19,20,21,22]\n",
    "y = [100,90,80,70,60,60,55,55,60,65,60,75,70,70,75,76,78,79,90,99,99,100]\n",
    "\n",
    "mymodel = numpy.poly1d(numpy.polyfit(x,y,3))\n",
    "\n",
    "speed = mymodel(8)  # pass any value\n",
    "print(speed)"
   ]
  }
 ],
 "metadata": {
  "kernelspec": {
   "display_name": "Python 3.10.4 64-bit",
   "language": "python",
   "name": "python3"
  },
  "language_info": {
   "codemirror_mode": {
    "name": "ipython",
    "version": 3
   },
   "file_extension": ".py",
   "mimetype": "text/x-python",
   "name": "python",
   "nbconvert_exporter": "python",
   "pygments_lexer": "ipython3",
   "version": "3.10.4"
  },
  "orig_nbformat": 4,
  "vscode": {
   "interpreter": {
    "hash": "dbb56158ff56509327459026193bd02828d997d92d7d0729f27dd91cd3b059da"
   }
  }
 },
 "nbformat": 4,
 "nbformat_minor": 2
}
